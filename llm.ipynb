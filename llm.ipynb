{
 "cells": [
  {
   "cell_type": "code",
   "execution_count": null,
   "id": "c85aa69a",
   "metadata": {},
   "outputs": [
    {
     "name": "stdout",
     "output_type": "stream",
     "text": [
      "[{'title': 'Micron to cease chip sales to China, bitcoin sinks to 4-month low', 'publisher': 'Yahoo Finance Video', 'link': 'https://finance.yahoo.com/video/micron-cease-chip-sales-china-144527158.html', 'published_date': '2025-10-17T14:45:27+00:00', 'summary': \"Market Catalysts host Allie Canal tracks several of the day's top trending stock tickers, including Micron Technology's (MU) move to stop supplying chips to data centers in China, bitcoin (BTC-USD) plunging this week to a four-month low, and Apple (AAPL) signing a deal to be the official broadcaster of Formula One (FWONK, FWONA). To watch more expert insights and analysis on the latest market action, check out more&nbsp;Market Catalysts.\", 'ticker': 'AAPL', 'company_name': 'Apple Inc.', 'source': 'yahoo_finance'}, {'title': \"AI can't justify its massive buildout — but doesn't have to, yet\", 'publisher': 'Yahoo Finance', 'link': 'https://finance.yahoo.com/news/ai-cant-justify-its-massive-buildout--but-doesnt-have-to-yet-100018131.html', 'published_date': '2025-10-17T10:00:18+00:00', 'summary': \"The absence of profitable AI services doesn't undermine the massive buildout; it justifies it.\", 'ticker': 'AAPL', 'company_name': 'Apple Inc.', 'source': 'yahoo_finance'}, {'title': \"Apple's Top Exec Says 'Things Need To Be fixed' To Make Fans Watch Sports: '...You Have To Sign Up For 1,200 subscriptions'\", 'publisher': 'Benzinga', 'link': 'https://finance.yahoo.com/news/apples-top-exec-says-things-033114483.html', 'published_date': '2025-10-18T03:31:14+00:00', 'summary': \"Apple Inc.'s (NASDAQ:AAPL) senior vice president of services Eddy Cue says the explosion of sports streaming platforms has made watching live games too complicated and expensive. Cue: It's Never Been Easier To Watch — Or Harder To Find Speaking at the ...\", 'ticker': 'AAPL', 'company_name': 'Apple Inc.', 'source': 'yahoo_finance'}, {'title': \"Apple's iPhone Air Sells Out in Minutes Across China\", 'publisher': 'GuruFocus.com', 'link': 'https://finance.yahoo.com/news/apples-iphone-air-sells-minutes-222825589.html', 'published_date': '2025-10-17T22:28:25+00:00', 'summary': 'Ultra-thin titanium model sparks massive demand as Cook visits Beijing', 'ticker': 'AAPL', 'company_name': 'Apple Inc.', 'source': 'yahoo_finance'}, {'title': 'Why Apple (AAPL) Outpaced the Stock Market Today', 'publisher': 'Zacks', 'link': 'https://finance.yahoo.com/news/why-apple-aapl-outpaced-stock-214503555.html', 'published_date': '2025-10-17T21:45:03+00:00', 'summary': 'Apple (AAPL) reached $252.29 at the closing of the latest trading day, reflecting a +1.96% change compared to its last close.', 'ticker': 'AAPL', 'company_name': 'Apple Inc.', 'source': 'yahoo_finance'}, {'title': 'Crypto Titans Join Trump’s White House Fundraiser for $250M Ballroom Project', 'publisher': 'BeInCrypto', 'link': 'https://beincrypto.com/crypto-titans-join-trumps-white-house-fundraiser-for-250m-ballroom-project/', 'published_date': '2025-10-17T21:02:14+00:00', 'summary': 'Crypto moguls and tech titans back Trump’s $250M White House ballroom plan—raising funds, power, and controversy.', 'ticker': 'AAPL', 'company_name': 'Apple Inc.', 'source': 'yahoo_finance'}, {'title': 'Sell Tesla Stock, Analyst Says. Why Shares Are Rising.', 'publisher': 'Barrons.com', 'link': 'https://www.barrons.com/articles/tesla-stock-price-sell-rating-analyst-9a0735f0?siteid=yhoof2&yptr=yahoo', 'published_date': '2025-10-17T20:21:00+00:00', 'summary': 'Thursday, BNP Paribas Exane analyst James Picariello launched coverage of Tesla stock with a Sell rating and $307 price target.', 'ticker': 'AAPL', 'company_name': 'Apple Inc.', 'source': 'yahoo_finance'}, {'title': 'Sector Update: Tech Stocks Mixed Late Afternoon', 'publisher': 'MT Newswires', 'link': 'https://finance.yahoo.com/news/sector-tech-stocks-mixed-afternoon-195547759.html', 'published_date': '2025-10-17T19:55:47+00:00', 'summary': 'Tech stocks were mixed late Friday afternoon, with the Technology Select Sector SPDR Fund (XLK) gain', 'ticker': 'AAPL', 'company_name': 'Apple Inc.', 'source': 'yahoo_finance'}, {'title': 'ARM Skyrockets 17% in a Month: Should You Board the Train?', 'publisher': 'Zacks', 'link': 'https://finance.yahoo.com/news/arm-skyrockets-17-month-board-180000593.html', 'published_date': '2025-10-17T18:00:00+00:00', 'summary': \"ARM's 17% surge highlights its dominance in mobile chips and AI, but China risks and high valuations urge investor caution.\", 'ticker': 'AAPL', 'company_name': 'Apple Inc.', 'source': 'yahoo_finance'}, {'title': 'This new Apple gift card comes with Bitcoin rewards', 'publisher': 'TheStreet', 'link': 'https://www.thestreet.com/crypto/apple-gift-card-bitcoin-rewards-fold', 'published_date': '2025-10-17T17:39:19+00:00', 'summary': 'Bitcoin rewards app Fold has added Apple to its growing list of supported merchants, allowing users to earn Bitcoin (BTC) for everyday spending. In a post on X on Oct. 15, the company announced that Fold+ members can now get 2.5% back in Bitcoin when purchasing Apple gift cards through the ...', 'ticker': 'AAPL', 'company_name': 'Apple Inc.', 'source': 'yahoo_finance'}]\n"
     ]
    },
    {
     "name": "stderr",
     "output_type": "stream",
     "text": [
      "Batches: 100%|██████████| 1/1 [00:00<00:00,  2.02it/s]"
     ]
    },
    {
     "name": "stdout",
     "output_type": "stream",
     "text": [
      "FAISS index with 10 passages ready\n"
     ]
    },
    {
     "name": "stderr",
     "output_type": "stream",
     "text": [
      "\n"
     ]
    }
   ],
   "source": [
    "from sentence_transformers import SentenceTransformer, util\n",
    "import faiss\n",
    "import numpy as np\n",
    "import json\n",
    "\n",
    "# Load the fine-tuned model\n",
    "retriever_model = SentenceTransformer(\"finance-embed-model\")\n",
    "\n",
    "# Load your corpus\n",
    "with open(\"data/news.json\", \"r\", encoding=\"utf-8\") as f:\n",
    "    corpus = [json.loads(line) for line in f][0]\n",
    "\n",
    "corpus_texts = [c[\"summary\"] for c in corpus]  # or 'body' if you have full text\n",
    "corpus_meta = [{\"title\": c[\"title\"], \"link\": c[\"link\"]} for c in corpus]\n",
    "\n",
    "# Encode corpus embeddings\n",
    "corpus_embeddings = retriever_model.encode(corpus_texts, convert_to_numpy=True, batch_size=32, show_progress_bar=True)\n",
    "\n",
    "# Normalize embeddings for cosine similarity\n",
    "faiss.normalize_L2(corpus_embeddings)\n",
    "\n",
    "# Create FAISS index\n",
    "dimension = corpus_embeddings.shape[1]\n",
    "index = faiss.IndexFlatIP(dimension)  # inner product for cosine similarity\n",
    "index.add(corpus_embeddings)\n",
    "print(f\"FAISS index with {index.ntotal} passages ready\")\n"
   ]
  },
  {
   "cell_type": "code",
   "execution_count": null,
   "id": "f52a0c9a",
   "metadata": {},
   "outputs": [],
   "source": [
    "def retrieve_passages(query, top_k=2):\n",
    "    q_emb = retriever_model.encode([query], convert_to_numpy=True)\n",
    "    faiss.normalize_L2(q_emb)\n",
    "    D, I = index.search(q_emb, top_k)\n",
    "    \n",
    "    results = []\n",
    "    for idx in I[0]:\n",
    "        results.append(corpus_meta[idx] | {\"text\": corpus_texts[idx]})\n",
    "    return results"
   ]
  },
  {
   "cell_type": "code",
   "execution_count": 9,
   "id": "be7a5bc4",
   "metadata": {},
   "outputs": [],
   "source": [
    "from transformers import AutoTokenizer, AutoModelForSeq2SeqLM\n",
    "\n",
    "gen_model_name = \"google/flan-t5-small\"\n",
    "tokenizer = AutoTokenizer.from_pretrained(gen_model_name)\n",
    "generator = AutoModelForSeq2SeqLM.from_pretrained(gen_model_name)\n",
    "\n",
    "def generate_answer(query, passages, max_length=200):\n",
    "    context = \"\\n\\n\".join([p[\"text\"] for p in passages])\n",
    "    prompt = f\"Answer the following question using the context below:\\n\\nContext:\\n{context}\\n\\nQuestion: {query}\\nAnswer:\"\n",
    "\n",
    "    inputs = tokenizer(prompt, return_tensors=\"pt\")\n",
    "    outputs = generator.generate(**inputs, max_new_tokens=max_length)\n",
    "    answer = tokenizer.decode(outputs[0], skip_special_tokens=True)\n",
    "    \n",
    "    return answer.replace(prompt, \"\").strip()"
   ]
  },
  {
   "cell_type": "code",
   "execution_count": 10,
   "id": "178b66a3",
   "metadata": {},
   "outputs": [],
   "source": [
    "def finance_agent(query):\n",
    "    top_passages = retrieve_passages(query, top_k=5)\n",
    "    answer = generate_answer(query, top_passages)\n",
    "    return answer"
   ]
  },
  {
   "cell_type": "code",
   "execution_count": 15,
   "id": "6df78073",
   "metadata": {},
   "outputs": [
    {
     "name": "stdout",
     "output_type": "stream",
     "text": [
      "Answer:\n",
      " (iii)\n"
     ]
    }
   ],
   "source": [
    "query = \"What happened with Micron's chip sales to China?\"\n",
    "answer = finance_agent(query)\n",
    "print(\"Answer:\\n\", answer)"
   ]
  }
 ],
 "metadata": {
  "kernelspec": {
   "display_name": "languageEnvironment",
   "language": "python",
   "name": "python3"
  },
  "language_info": {
   "codemirror_mode": {
    "name": "ipython",
    "version": 3
   },
   "file_extension": ".py",
   "mimetype": "text/x-python",
   "name": "python",
   "nbconvert_exporter": "python",
   "pygments_lexer": "ipython3",
   "version": "3.10.12"
  }
 },
 "nbformat": 4,
 "nbformat_minor": 5
}
