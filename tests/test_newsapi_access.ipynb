{
 "cells": [
  {
   "cell_type": "code",
   "execution_count": 14,
   "id": "56c89181",
   "metadata": {},
   "outputs": [],
   "source": [
    "import os\n",
    "import pandas as pd\n",
    "from pathlib import Path\n",
    "from dotenv import load_dotenv\n",
    "from newsapi import NewsApiClient"
   ]
  },
  {
   "cell_type": "code",
   "execution_count": 15,
   "id": "51682ac7",
   "metadata": {},
   "outputs": [],
   "source": [
    "load_dotenv()\n",
    "api_key = os.getenv(\"NEWS_API_KEY\")\n",
    "\n",
    "if not api_key:\n",
    "    raise ValueError(\"No NEWS_API_KEY found in .env file. Add one before running.\")\n",
    "\n",
    "newsapi = NewsApiClient(api_key=api_key)"
   ]
  },
  {
   "cell_type": "code",
   "execution_count": 16,
   "id": "a4f3f540",
   "metadata": {},
   "outputs": [
    {
     "name": "stdout",
     "output_type": "stream",
     "text": [
      "✅ Retrieved sample articles.\n"
     ]
    }
   ],
   "source": [
    "query = \"stock market OR finance OR economy\"\n",
    "\n",
    "response = newsapi.get_everything(\n",
    "    q=query,\n",
    "    language=\"en\",\n",
    "    sort_by=\"publishedAt\",\n",
    "    page_size=20\n",
    ")\n",
    "\n",
    "articles = response.get(\"articles\", [])\n",
    "print(f\"✅ Retrieved sample articles.\")\n"
   ]
  },
  {
   "cell_type": "code",
   "execution_count": null,
   "id": "fcde6b77",
   "metadata": {},
   "outputs": [
    {
     "name": "stdout",
     "output_type": "stream",
     "text": [
      "----------------------------------- Index(['source', 'author', 'title', 'description', 'url', 'urlToImage',\n",
      "       'publishedAt', 'content'],\n",
      "      dtype='object')\n",
      "✅ Sample saved to tests\\data\\news_sample.csv\n"
     ]
    },
    {
     "data": {
      "text/html": [
       "<div>\n",
       "<style scoped>\n",
       "    .dataframe tbody tr th:only-of-type {\n",
       "        vertical-align: middle;\n",
       "    }\n",
       "\n",
       "    .dataframe tbody tr th {\n",
       "        vertical-align: top;\n",
       "    }\n",
       "\n",
       "    .dataframe thead th {\n",
       "        text-align: right;\n",
       "    }\n",
       "</style>\n",
       "<table border=\"1\" class=\"dataframe\">\n",
       "  <thead>\n",
       "    <tr style=\"text-align: right;\">\n",
       "      <th></th>\n",
       "      <th>source</th>\n",
       "      <th>author</th>\n",
       "      <th>title</th>\n",
       "      <th>description</th>\n",
       "      <th>url</th>\n",
       "      <th>publishedAt</th>\n",
       "      <th>content</th>\n",
       "    </tr>\n",
       "  </thead>\n",
       "  <tbody>\n",
       "    <tr>\n",
       "      <th>0</th>\n",
       "      <td>Biztoc.com</td>\n",
       "      <td>reuters.com</td>\n",
       "      <td>Two of France's largest cities impose stricter...</td>\n",
       "      <td></td>\n",
       "      <td>https://biztoc.com/x/1df471074b568104</td>\n",
       "      <td>2025-10-10T01:37:50Z</td>\n",
       "      <td>{ window.open(this.href, '_blank'); }, 200); r...</td>\n",
       "    </tr>\n",
       "    <tr>\n",
       "      <th>1</th>\n",
       "      <td>Biztoc.com</td>\n",
       "      <td>reuters.com</td>\n",
       "      <td>Brazil registers 15,155 new coronavirus cases</td>\n",
       "      <td></td>\n",
       "      <td>https://biztoc.com/x/8fee4d747a5380e2</td>\n",
       "      <td>2025-10-10T01:37:48Z</td>\n",
       "      <td>{ window.open(this.href, '_blank'); }, 200); r...</td>\n",
       "    </tr>\n",
       "    <tr>\n",
       "      <th>2</th>\n",
       "      <td>Biztoc.com</td>\n",
       "      <td>reuters.com</td>\n",
       "      <td>COVID-19 cases rise in Canada, schools to put ...</td>\n",
       "      <td></td>\n",
       "      <td>https://biztoc.com/x/f84ea42c45e83dd1</td>\n",
       "      <td>2025-10-10T01:37:43Z</td>\n",
       "      <td>{ window.open(this.href, '_blank'); }, 200); r...</td>\n",
       "    </tr>\n",
       "    <tr>\n",
       "      <th>3</th>\n",
       "      <td>Biztoc.com</td>\n",
       "      <td>reuters.com</td>\n",
       "      <td>EU to delay euro clearing decision on Brexit d...</td>\n",
       "      <td></td>\n",
       "      <td>https://biztoc.com/x/10cd20f38991eac3</td>\n",
       "      <td>2025-10-10T01:37:43Z</td>\n",
       "      <td>{ window.open(this.href, '_blank'); }, 200); r...</td>\n",
       "    </tr>\n",
       "    <tr>\n",
       "      <th>4</th>\n",
       "      <td>Biztoc.com</td>\n",
       "      <td>reuters.com</td>\n",
       "      <td>Philippines to prioritise coronavirus vaccine ...</td>\n",
       "      <td></td>\n",
       "      <td>https://biztoc.com/x/f5fbda2aa70fdf1a</td>\n",
       "      <td>2025-10-10T01:37:42Z</td>\n",
       "      <td>{ window.open(this.href, '_blank'); }, 200); r...</td>\n",
       "    </tr>\n",
       "  </tbody>\n",
       "</table>\n",
       "</div>"
      ],
      "text/plain": [
       "       source       author                                              title  \\\n",
       "0  Biztoc.com  reuters.com  Two of France's largest cities impose stricter...   \n",
       "1  Biztoc.com  reuters.com      Brazil registers 15,155 new coronavirus cases   \n",
       "2  Biztoc.com  reuters.com  COVID-19 cases rise in Canada, schools to put ...   \n",
       "3  Biztoc.com  reuters.com  EU to delay euro clearing decision on Brexit d...   \n",
       "4  Biztoc.com  reuters.com  Philippines to prioritise coronavirus vaccine ...   \n",
       "\n",
       "  description                                    url           publishedAt  \\\n",
       "0              https://biztoc.com/x/1df471074b568104  2025-10-10T01:37:50Z   \n",
       "1              https://biztoc.com/x/8fee4d747a5380e2  2025-10-10T01:37:48Z   \n",
       "2              https://biztoc.com/x/f84ea42c45e83dd1  2025-10-10T01:37:43Z   \n",
       "3              https://biztoc.com/x/10cd20f38991eac3  2025-10-10T01:37:43Z   \n",
       "4              https://biztoc.com/x/f5fbda2aa70fdf1a  2025-10-10T01:37:42Z   \n",
       "\n",
       "                                             content  \n",
       "0  { window.open(this.href, '_blank'); }, 200); r...  \n",
       "1  { window.open(this.href, '_blank'); }, 200); r...  \n",
       "2  { window.open(this.href, '_blank'); }, 200); r...  \n",
       "3  { window.open(this.href, '_blank'); }, 200); r...  \n",
       "4  { window.open(this.href, '_blank'); }, 200); r...  "
      ]
     },
     "metadata": {},
     "output_type": "display_data"
    }
   ],
   "source": [
    "if articles:\n",
    "    df = pd.DataFrame(articles)\n",
    "    df = df[[\"source\", \"author\", \"title\", \"description\", \"url\", \"publishedAt\", \"content\"]]\n",
    "\n",
    "    df[\"source\"] = df[\"source\"].apply(lambda x: x.get(\"name\") if isinstance(x, dict) else x)\n",
    "\n",
    "    data_path = Path(\"tests/data\")\n",
    "    data_path.mkdir(parents=True, exist_ok=True)\n",
    "    file_path = data_path / \"news_sample.csv\"\n",
    "    df.to_csv(file_path, index=False)\n",
    "\n",
    "    print(f\"✅ Sample saved to {file_path}\")\n",
    "    display(df.head())\n",
    "else:\n",
    "    print(\"⚠️ No articles found. Try changing the query or checking your API key.\")\n"
   ]
  }
 ],
 "metadata": {
  "kernelspec": {
   "display_name": "venv",
   "language": "python",
   "name": "python3"
  },
  "language_info": {
   "codemirror_mode": {
    "name": "ipython",
    "version": 3
   },
   "file_extension": ".py",
   "mimetype": "text/x-python",
   "name": "python",
   "nbconvert_exporter": "python",
   "pygments_lexer": "ipython3",
   "version": "3.11.9"
  }
 },
 "nbformat": 4,
 "nbformat_minor": 5
}
