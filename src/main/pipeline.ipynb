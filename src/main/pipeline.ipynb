{
 "cells": [
  {
   "cell_type": "markdown",
   "id": "02e5858a",
   "metadata": {},
   "source": [
    "# Financial News Analysis Research Assistant\n",
    "\n",
    "https://github.com/Almudenagarrido/NLP-Multi-Agent-System\n",
    "\n",
    "⚠️ Important:\n",
    "This repository includes all modules and scripts developed by the team.\n",
    "These files are imported into the main notebook and contain the core functionality of the project, representing the majority of the development work.\n",
    "\n",
    "Team members: Jacobo Banus, Almudena Garrido & Christopher San Filippo\n",
    "\n",
    "## Multi-Agent System for Real-Time Financial Analysis\n",
    "\n",
    "### Project Overview:\n",
    "\n",
    "This system implements a sophisticated multi-agent architecture designed to analyze financial news in real-time and provide intelligent, context-aware responses to user queries. The pipeline integrates multiple specialized agents that work collaboratively to retrieve, analyze, and synthesize financial information.\n",
    "\n",
    "### Core Architecture:\n",
    "\n",
    "- **News Retrieval Agent**: Fetches real-time financial news from multiple sources\n",
    "\n",
    "- **Sentiment Analysis Agent**: Performs sentiment scoring on news content\n",
    "\n",
    "- **Topic Classification Agent**: Routes queries to appropriate domain specialists\n",
    "\n",
    "- **Specialist Agents**: Domain-specific models fine-tuned for financial topics\n",
    "\n",
    "- **Evaluation & Optimization**: Continuous improvement through feedback loops\n",
    "\n",
    "- **Memory System**: Maintains conversation history and context\n",
    "\n",
    "**Technical Stack**: Python, HuggingFace Transformers, PyTorch, Custom Fine-tuned Models"
   ]
  },
  {
   "cell_type": "markdown",
   "id": "c1713f3a",
   "metadata": {},
   "source": [
    "### 1. System Initialization & Agent Imports\n",
    "\n",
    "*This section imports all specialized agents that form our multi-agent architecture, each responsible for a specific task in the financial analysis pipeline.*"
   ]
  },
  {
   "cell_type": "code",
   "execution_count": 1,
   "id": "8837ed1b",
   "metadata": {},
   "outputs": [
    {
     "name": "stderr",
     "output_type": "stream",
     "text": [
      "/home/bigburrito/NLP/usd/NLP-Multi-Agent-System/venv/lib/python3.10/site-packages/tqdm/auto.py:21: TqdmWarning: IProgress not found. Please update jupyter and ipywidgets. See https://ipywidgets.readthedocs.io/en/stable/user_install.html\n",
      "  from .autonotebook import tqdm as notebook_tqdm\n"
     ]
    }
   ],
   "source": [
    "import sys\n",
    "import os\n",
    "sys.path.append(os.path.abspath('../'))\n",
    "\n",
    "from utils.ticker_finder import get_ticker_from_company_name\n",
    "from memory.memory_agent import MemoryAgent\n",
    "from agents.topic_classifier_agent import TopicClassifier\n",
    "from agents.news_retrieval_agent import NewsRetrievalAgent\n",
    "from agents.sentiment_analysis_agent import SentimentAnalysisAgent\n",
    "from agents.specialist_agent import Specialist\n",
    "from agents.evaluator_optimizer_agent import EvaluatorOptimizer"
   ]
  },
  {
   "cell_type": "markdown",
   "id": "3dd345d0",
   "metadata": {},
   "source": [
    "### 2. User Query Processing\n",
    "\n",
    "**Objective**: Process natural language financial queries from users. In production, this would come from an API endpoint or user interface."
   ]
  },
  {
   "cell_type": "code",
   "execution_count": 2,
   "id": "2f5eb0cd",
   "metadata": {},
   "outputs": [],
   "source": [
    "query = \"What is NVIDIA's pricing strategy for their new graphics cards?\""
   ]
  },
  {
   "cell_type": "markdown",
   "id": "5225b6b7",
   "metadata": {},
   "source": [
    "### 3. Company Identification & Historical Context\n",
    "\n",
    "**Function**: Extracts company names from user queries and converts them to stock ticker symbols for accurate financial data retrieval.\n",
    "\n",
    "**Purpose**: Maintains conversation context by storing and retrieving past interactions, enabling the system to provide consistent, personalized responses."
   ]
  },
  {
   "cell_type": "code",
   "execution_count": 3,
   "id": "042a44b5",
   "metadata": {},
   "outputs": [
    {
     "data": {
      "text/plain": [
       "[]"
      ]
     },
     "execution_count": 3,
     "metadata": {},
     "output_type": "execute_result"
    }
   ],
   "source": [
    "companies = [\"apple\", \"microsoft\", \"google\", \"tesla\", \"nvidia\", \"intel\"]\n",
    "for company in companies:\n",
    "    if company in query.lower():\n",
    "        company_name = company\n",
    "\n",
    "ticker = get_ticker_from_company_name(company_name)\n",
    "\n",
    "memory_agent = MemoryAgent(\"../memory/history.json\")\n",
    "stored_queries = memory_agent.load_entries(ticker)\n",
    "stored_queries"
   ]
  },
  {
   "cell_type": "markdown",
   "id": "02df655c",
   "metadata": {},
   "source": [
    "### 4. Real-Time News Retrieval\n",
    "\n",
    "**Capability**: Connects to financial news APIs to collect and filter relevant articles in real-time, ensuring responses are based on current market information."
   ]
  },
  {
   "cell_type": "code",
   "execution_count": 4,
   "id": "16ae1e20",
   "metadata": {},
   "outputs": [
    {
     "data": {
      "text/plain": [
       "['Google, Amazon, Microsoft, and OpenAI are forging ahead with their in-house chip design efforts.',\n",
       " \"Editor's Note: A typographical error in this story's headline has been corrected. Apple Inc. (NASDAQ:AAPL) CEO Tim Cook lauded Chinese app developers for their significant role in the company’s innovation ecosystem. Cook Praises China's Vibrant App ...\",\n",
       " 'The cryptocurrency market just experienced what traders are calling the worst liquidation event in history—a flash crash so severe it made the FTX collapse look tame by comparison, wiping out over $20 billion in leveraged positions and leaving retail ...',\n",
       " '[株式会社カナダグースジャパン]\\n[画像1: https://prcdn.freetls.fastly.net/release_image/104161/76/104161-76-e43fb11dc0da592207b72f3a994e0727-3000x2001.jpg?width=536&quality=85%2C75&format=jpeg&auto=webp&fit=bounds&...',\n",
       " '[南足柄市]\\n[画像1: https://prcdn.freetls.fastly.net/release_image/110226/24/110226-24-06a081824cff4257244dd794178677da-1920x1080.jpg?width=536&quality=85%2C75&format=jpeg&auto=webp&fit=bounds&...',\n",
       " '[株式会社 佐賀玉屋]\\n[画像1: https://prcdn.freetls.fastly.net/release_image/106657/87/106657-87-760580b686ca5bea588289bd9a5e4e3f-1080x606.jpg?width=536&quality=85%2C75&format=jpeg&auto=webp&fit=bounds&a...']"
      ]
     },
     "execution_count": 4,
     "metadata": {},
     "output_type": "execute_result"
    }
   ],
   "source": [
    "news_retrieval_agent = NewsRetrievalAgent()\n",
    "\n",
    "limit = 3\n",
    "days_back = 7\n",
    "\n",
    "json_data = news_retrieval_agent.get_news_json(company_names=companies, limit_per_source=limit, days_back=days_back)\n",
    "news = [article[\"summary\"] for article in json_data['data'][ticker]['articles']]\n",
    "\n",
    "if 'data' in json_data and ticker in json_data['data'] and 'articles' in json_data['data'][ticker]:\n",
    "    news = [article[\"summary\"] for article in json_data['data'][ticker]['articles']]\n",
    "else:\n",
    "    news = []\n",
    "news"
   ]
  },
  {
   "cell_type": "markdown",
   "id": "0c237658",
   "metadata": {},
   "source": [
    "### 5. Sentiment Analysis Integration\n",
    "\n",
    "**Analysis**: Performs sentiment scoring on retrieved content (positive, negative, neutral) to determine market implications of each event.\n",
    "\n",
    "**Output**: Provides an overall sentiment label that guides the specialist agent's response tone and content."
   ]
  },
  {
   "cell_type": "code",
   "execution_count": 5,
   "id": "112a7030",
   "metadata": {},
   "outputs": [
    {
     "name": "stderr",
     "output_type": "stream",
     "text": [
      "Device set to use cuda:0\n",
      "Asking to truncate to max_length but no maximum length is provided and the model has no predefined maximum length. Default to no truncation.\n"
     ]
    },
    {
     "data": {
      "text/plain": [
       "[{'summary': 'Google, Amazon, Microsoft, and OpenAI are forging ahead with their in-house chip design efforts.',\n",
       "  'sentiment': 'neutral',\n",
       "  'sentiment_score': 0.9955110549926758,\n",
       "  'explanation': 'Google, Amazon, Microsoft, and OpenAI are forging ahead with their in-house chip design efforts.'},\n",
       " {'summary': \"Editor's Note: A typographical error in this story's headline has been corrected. Apple Inc. (NASDAQ:AAPL) CEO Tim Cook lauded Chinese app developers for their significant role in the company’s innovation ecosystem. Cook Praises China's Vibrant App ...\",\n",
       "  'sentiment': 'positive',\n",
       "  'sentiment_score': 0.5184598565101624,\n",
       "  'explanation': \"Cook Praises China's Vibrant App ...\"},\n",
       " {'summary': 'The cryptocurrency market just experienced what traders are calling the worst liquidation event in history—a flash crash so severe it made the FTX collapse look tame by comparison, wiping out over $20 billion in leveraged positions and leaving retail ...',\n",
       "  'sentiment': 'negative',\n",
       "  'sentiment_score': 0.9973019361495972,\n",
       "  'explanation': 'The cryptocurrency market just experienced what traders are calling the worst liquidation event in history—a flash crash so severe it made the FTX collapse look tame by comparison, wiping out over $20 billion in leveraged positions and leaving retail ...'},\n",
       " {'summary': '[株式会社カナダグースジャパン]\\n[画像1: https://prcdn.freetls.fastly.net/release_image/104161/76/104161-76-e43fb11dc0da592207b72f3a994e0727-3000x2001.jpg?width=536&quality=85%2C75&format=jpeg&auto=webp&fit=bounds&...',\n",
       "  'sentiment': 'neutral',\n",
       "  'sentiment_score': 0.9999507665634155,\n",
       "  'explanation': '[株式会社カナダグースジャパン] [画像1: https://prcdn.freetls.fastly.net/release_image/104161/76/104161-76-e43fb11dc0da592207b72f3a994e0727-3000x2001.jpg?width=536&quality=85%2C75&format=jpeg&auto=webp&fit=bounds&...'},\n",
       " {'summary': '[南足柄市]\\n[画像1: https://prcdn.freetls.fastly.net/release_image/110226/24/110226-24-06a081824cff4257244dd794178677da-1920x1080.jpg?width=536&quality=85%2C75&format=jpeg&auto=webp&fit=bounds&...',\n",
       "  'sentiment': 'neutral',\n",
       "  'sentiment_score': 0.999933123588562,\n",
       "  'explanation': '[南足柄市] [画像1: https://prcdn.freetls.fastly.net/release_image/110226/24/110226-24-06a081824cff4257244dd794178677da-1920x1080.jpg?width=536&quality=85%2C75&format=jpeg&auto=webp&fit=bounds&...'},\n",
       " {'summary': '[株式会社 佐賀玉屋]\\n[画像1: https://prcdn.freetls.fastly.net/release_image/106657/87/106657-87-760580b686ca5bea588289bd9a5e4e3f-1080x606.jpg?width=536&quality=85%2C75&format=jpeg&auto=webp&fit=bounds&a...',\n",
       "  'sentiment': 'neutral',\n",
       "  'sentiment_score': 0.9999681711196899,\n",
       "  'explanation': '[株式会社 佐賀玉屋] [画像1: https://prcdn.freetls.fastly.net/release_image/106657/87/106657-87-760580b686ca5bea588289bd9a5e4e3f-1080x606.jpg?width=536&quality=85%2C75&format=jpeg&auto=webp&fit=bounds&a...'}]"
      ]
     },
     "execution_count": 5,
     "metadata": {},
     "output_type": "execute_result"
    }
   ],
   "source": [
    "sentiment_agent = SentimentAnalysisAgent()\n",
    "news_with_sentiment = []\n",
    "\n",
    "articles = json_data['data'][ticker]['articles']\n",
    "\n",
    "for article in articles:\n",
    "    sentiment = sentiment_agent.predict_one(article[\"summary\"])\n",
    "    news_with_sentiment.append({\n",
    "        \"summary\": article[\"summary\"],\n",
    "        \"sentiment\": sentiment.label,\n",
    "        \"sentiment_score\": sentiment.score,\n",
    "        \"explanation\": sentiment.explanation\n",
    "    })\n",
    "\n",
    "overall_sentiment = \"neutral\"\n",
    "positive_scores = [n[\"sentiment_score\"] for n in news_with_sentiment if n[\"sentiment\"] == \"positive\"]\n",
    "negative_scores = [n[\"sentiment_score\"] for n in news_with_sentiment if n[\"sentiment\"] == \"negative\"]\n",
    "\n",
    "if positive_scores and max(positive_scores) > 0.7:\n",
    "    overall_sentiment = \"positive\"\n",
    "elif negative_scores and max(negative_scores) > 0.7:\n",
    "    overall_sentiment = \"negative\"\n",
    "news_with_sentiment"
   ]
  },
  {
   "cell_type": "markdown",
   "id": "723d6585",
   "metadata": {},
   "source": [
    "### 6. Intelligent Topic Routing\n",
    "\n",
    "**Routing Logic**: Analyzes the user query to determine the most appropriate domain specialist, ensuring expert-level responses for different financial topics (corporate_business, market_analysis, earnings, etc.)."
   ]
  },
  {
   "cell_type": "code",
   "execution_count": 6,
   "id": "08338015",
   "metadata": {},
   "outputs": [
    {
     "data": {
      "text/plain": [
       "'corporate_business'"
      ]
     },
     "execution_count": 6,
     "metadata": {},
     "output_type": "execute_result"
    }
   ],
   "source": [
    "topic_classifier = TopicClassifier()\n",
    "topic = topic_classifier.classify(query)\n",
    "topic"
   ]
  },
  {
   "cell_type": "markdown",
   "id": "b8358d32",
   "metadata": {},
   "source": [
    "### 7. Domain Specialist Response Generation with Evaluation & Continuous Feedback\n",
    "\n",
    "**Specialization**: Routes the query to a fine-tuned domain-specific model that generates human-readable answers with appropriate context, explanations, and financial insights."
   ]
  },
  {
   "cell_type": "code",
   "execution_count": 15,
   "id": "31ac11ef",
   "metadata": {},
   "outputs": [
    {
     "name": "stdout",
     "output_type": "stream",
     "text": [
      "Loading model for topic: corporate_business from ../agents/specialized_agents/corporate_business-generator\n",
      "Using GPU\n",
      "\n",
      "🔄 Iteration 1/3\n",
      "📊 Evaluation Score: 51/100\n",
      "💡 Feedback: Consider incorporating more specific data from the news. Make better use of the available context and history.\n",
      "🔄 Attempting improvement with feedback...\n",
      "\n",
      "🔄 Iteration 2/3\n",
      "📊 Evaluation Score: 51/100\n",
      "💡 Feedback: Consider incorporating more specific data from the news. Make better use of the available context and history.\n",
      "🔄 Attempting improvement with feedback...\n",
      "\n",
      "🔄 Iteration 3/3\n",
      "📊 Evaluation Score: 51/100\n",
      "💡 Feedback: Consider incorporating more specific data from the news. Make better use of the available context and history.\n",
      "🔄 Attempting improvement with feedback...\n",
      "🎯 Final Score: 51/100\n",
      "💬 Final Answer: NVIDIA's pricing strategy for their new graphics cards is to sell them at a lower price than their predecessors.\n"
     ]
    }
   ],
   "source": [
    "specialist = Specialist(topic)\n",
    "evaluator = EvaluatorOptimizer()\n",
    "\n",
    "max_iterations = 3\n",
    "target_score = 90\n",
    "best_answer = None\n",
    "best_score = 0\n",
    "feedback = \"\"\n",
    "\n",
    "\n",
    "for iteration in range(max_iterations):\n",
    "    \n",
    "    answer, prompt = specialist.respond(\n",
    "        query=query, \n",
    "        news_summaries=news, \n",
    "        past_queries=stored_queries, \n",
    "        SA_label=overall_sentiment,\n",
    "        feedback=feedback\n",
    "    )\n",
    "    \n",
    "    evaluation = evaluator.evaluate_response(\n",
    "        original_query=query,\n",
    "        news_summaries=news,\n",
    "        past_queries=stored_queries,\n",
    "        specialist_response=answer\n",
    "    )\n",
    "    \n",
    "    current_score = evaluation[\"overall_score\"]\n",
    "    print(f\"\\n🔄 Iteration {iteration + 1}/{max_iterations}\")\n",
    "    print(f\"📊 Evaluation Score: {current_score}/100\")\n",
    "    print(f\"💡 Feedback: {evaluation['actionable_feedback']}\")\n",
    "    \n",
    "    if current_score > best_score:\n",
    "        best_score = current_score\n",
    "        best_answer = answer\n",
    "    \n",
    "    if current_score >= target_score:\n",
    "        print(f\"✅ Target score {target_score} achieved!\")\n",
    "        break\n",
    "    else:\n",
    "        feedback = evaluation[\"actionable_feedback\"]\n",
    "        print(f\"🔄 Attempting improvement with feedback...\")\n",
    "        \n",
    "        if evaluation[\"critical_issues\"]:\n",
    "            critical_feedback = \". \".join(evaluation[\"critical_issues\"])\n",
    "            feedback += f\" Focus on: {critical_feedback}\"\n",
    "\n",
    "final_answer = best_answer if best_answer else answer\n",
    "final_score = best_score if best_answer else current_score\n",
    "\n",
    "print(f\"🎯 Final Score: {final_score}/100\")\n",
    "print(f\"💬 Final Answer: {final_answer}\")\n"
   ]
  },
  {
   "cell_type": "markdown",
   "id": "6a449b14",
   "metadata": {},
   "source": [
    "Let's take a look at the prompt that was used"
   ]
  },
  {
   "cell_type": "code",
   "execution_count": 20,
   "id": "74a8b229",
   "metadata": {},
   "outputs": [
    {
     "name": "stdout",
     "output_type": "stream",
     "text": [
      "💬 Prompt the Specialized Agent received:\n",
      "\n",
      "You are a domain-specific assistant for corporate_business.\n",
      "\n",
      "Query: What is NVIDIA's pricing strategy for their new graphics cards?\n",
      "\n",
      "News Summaries:\n",
      "    Google, Amazon, Microsoft, and OpenAI are forging ahead with their in-house chip design efforts.\n",
      "Editor's Note: A typographical error in this story's headline has been corrected. Apple Inc. (NASDAQ:AAPL) CEO Tim Cook lauded Chinese app developers for their significant role in the company’s innovation ecosystem. Cook Praises China's Vibrant App ...\n",
      "The cryptocurrency market just experienced what traders are calling the worst liquidation event in history—a flash crash so severe it made the FTX collapse look tame by comparison, wiping out over $20 billion in leveraged positions and leaving retail ...\n",
      "[株式会社カナダグースジャパン]\n",
      "[画像1: https://prcdn.freetls.fastly.net/release_image/104161/76/104161-76-e43fb11dc0da592207b72f3a994e0727-3000x2001.jpg?width=536&quality=85%2C75&format=jpeg&auto=webp&fit=bounds&...\n",
      "[南足柄市]\n",
      "[画像1: https://prcdn.freetls.fastly.net/release_image/110226/24/110226-24-06a081824cff4257244dd794178677da-1920x1080.jpg?width=536&quality=85%2C75&format=jpeg&auto=webp&fit=bounds&...\n",
      "[株式会社 佐賀玉屋]\n",
      "[画像1: https://prcdn.freetls.fastly.net/release_image/106657/87/106657-87-760580b686ca5bea588289bd9a5e4e3f-1080x606.jpg?width=536&quality=85%2C75&format=jpeg&auto=webp&fit=bounds&a...\n",
      "\n",
      "Optional Hints from Past Queries (use only if relevant):\n",
      "    \n",
      "\n",
      "Feedback: Consider incorporating more specific data from the news. Make better use of the available context and history. Focus on: Consider incorporating more specific data from the news.. Make better use of the available context and history.\n",
      "SA_label: negative\n",
      "\n",
      "Instruction:\n",
      "    Answer the query based on the news summaries.\n",
      "    Do NOT repeat past answers verbatim.\n",
      "    Use past queries only as supporting information..\n"
     ]
    }
   ],
   "source": [
    "print(f\"💬 Prompt the Specialized Agent received:\\n\\n{prompt}\")"
   ]
  },
  {
   "cell_type": "markdown",
   "id": "8e592a1a",
   "metadata": {},
   "source": [
    "### 8. Knowledge Persistence & Storage\n",
    "\n",
    "**Memory Management**: Stores all interactions with timestamps and context, building a comprehensive knowledge base for future reference and contextual understanding."
   ]
  },
  {
   "cell_type": "code",
   "execution_count": 8,
   "id": "8c58d3e9",
   "metadata": {},
   "outputs": [],
   "source": [
    "entry = {\n",
    "    \"question\": query,\n",
    "    \"articles\": news,\n",
    "    \"SA\": overall_sentiment,\n",
    "    \"feedback\": feedback,\n",
    "    \"answer\": answer\n",
    "}\n",
    "memory_agent.save_entry(entry, ticker)"
   ]
  },
  {
   "cell_type": "markdown",
   "id": "b2638578",
   "metadata": {},
   "source": [
    "## System Workflow Summary\n",
    "\n",
    "1. Input: User submits financial query\n",
    "\n",
    "2. Processing: System identifies company and retrieves historical context\n",
    "\n",
    "3. Data Collection: Real-time news retrieval from financial APIs\n",
    "\n",
    "4. Analysis: Sentiment scoring and topic classification\n",
    "\n",
    "5. Routing: Query directed to appropriate domain specialist\n",
    "\n",
    "6. Generation: Context-aware, expert response creation\n",
    "\n",
    "7. Evaluation: Quality assessment and feedback incorporation\n",
    "\n",
    "8. Storage: Knowledge persistence for future interactions\n",
    "\n",
    "This pipeline demonstrates a sophisticated multi-agent architecture that transforms raw financial data into intelligent, conversational insights for end-users."
   ]
  }
 ],
 "metadata": {
  "kernelspec": {
   "display_name": "venv",
   "language": "python",
   "name": "python3"
  },
  "language_info": {
   "codemirror_mode": {
    "name": "ipython",
    "version": 3
   },
   "file_extension": ".py",
   "mimetype": "text/x-python",
   "name": "python",
   "nbconvert_exporter": "python",
   "pygments_lexer": "ipython3",
   "version": "3.10.12"
  }
 },
 "nbformat": 4,
 "nbformat_minor": 5
}
