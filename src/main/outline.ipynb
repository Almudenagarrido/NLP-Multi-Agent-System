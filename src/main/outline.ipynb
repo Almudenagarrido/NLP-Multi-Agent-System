{
 "cells": [
  {
   "cell_type": "code",
   "execution_count": 1,
   "id": "8837ed1b",
   "metadata": {},
   "outputs": [],
   "source": [
    "import sys\n",
    "import os\n",
    "sys.path.append(os.path.abspath('../'))"
   ]
  },
  {
   "cell_type": "code",
   "execution_count": 2,
   "id": "e9f37fe2",
   "metadata": {},
   "outputs": [
    {
     "name": "stderr",
     "output_type": "stream",
     "text": [
      "/home/bigburrito/NLP/languageEnvironment/lib/python3.10/site-packages/tqdm/auto.py:21: TqdmWarning: IProgress not found. Please update jupyter and ipywidgets. See https://ipywidgets.readthedocs.io/en/stable/user_install.html\n",
      "  from .autonotebook import tqdm as notebook_tqdm\n"
     ]
    }
   ],
   "source": [
    "from utils.ticker_finder import get_ticker_from_company_name\n",
    "from memory.memory_agent import MemoryAgent\n",
    "from agents.topic_classifier_agent import TopicClassifier\n",
    "from agents.news_retrieval_agent import NewsRetrievalAgent\n",
    "from agents.specialist_agent import Specialist"
   ]
  },
  {
   "cell_type": "code",
   "execution_count": 3,
   "id": "2f5eb0cd",
   "metadata": {},
   "outputs": [],
   "source": [
    "query = \"How are apple's stocks doing?\""
   ]
  },
  {
   "cell_type": "markdown",
   "id": "5225b6b7",
   "metadata": {},
   "source": [
    "### 1. Getting market symbol and memory part"
   ]
  },
  {
   "cell_type": "code",
   "execution_count": 4,
   "id": "042a44b5",
   "metadata": {},
   "outputs": [],
   "source": [
    "companies = [\"apple\", \"microsoft\", \"google\", \"tesla\", \"nvidia\", \"intel\"]\n",
    "for company in companies:\n",
    "    if company in query.lower():\n",
    "        company_name = company\n",
    "ticker = get_ticker_from_company_name(company_name)"
   ]
  },
  {
   "cell_type": "code",
   "execution_count": 5,
   "id": "f2481f29",
   "metadata": {},
   "outputs": [],
   "source": [
    "memory_agent = MemoryAgent(\"../memory/history.json\")"
   ]
  },
  {
   "cell_type": "code",
   "execution_count": 6,
   "id": "49b57dfa",
   "metadata": {},
   "outputs": [],
   "source": [
    "stored_queries = memory_agent.load_entries(ticker)"
   ]
  },
  {
   "cell_type": "markdown",
   "id": "02df655c",
   "metadata": {},
   "source": [
    "### 2. Getting the news"
   ]
  },
  {
   "cell_type": "code",
   "execution_count": 7,
   "id": "16ae1e20",
   "metadata": {},
   "outputs": [],
   "source": [
    "news_retrieval_agent = NewsRetrievalAgent()\n",
    "\n",
    "limit = 3\n",
    "days_back = 7\n",
    "\n",
    "json_data = news_retrieval_agent.get_news_json(tickers=[ticker], limit_per_source=limit, days_back=days_back)"
   ]
  },
  {
   "cell_type": "code",
   "execution_count": 8,
   "id": "feb8325b",
   "metadata": {},
   "outputs": [],
   "source": [
    "news = [article[\"summary\"] for article in json_data['data'][ticker]]"
   ]
  },
  {
   "cell_type": "markdown",
   "id": "723d6585",
   "metadata": {},
   "source": [
    "### 3. Getting the topic"
   ]
  },
  {
   "cell_type": "code",
   "execution_count": 9,
   "id": "08338015",
   "metadata": {},
   "outputs": [],
   "source": [
    "topic_classifier = TopicClassifier()"
   ]
  },
  {
   "cell_type": "code",
   "execution_count": 10,
   "id": "cfa95a10",
   "metadata": {},
   "outputs": [
    {
     "data": {
      "text/plain": [
       "'corporate_business'"
      ]
     },
     "execution_count": 10,
     "metadata": {},
     "output_type": "execute_result"
    }
   ],
   "source": [
    "topic = topic_classifier.classify(query)\n",
    "topic"
   ]
  },
  {
   "cell_type": "markdown",
   "id": "b8358d32",
   "metadata": {},
   "source": [
    "### 4. Conversational Agent"
   ]
  },
  {
   "cell_type": "code",
   "execution_count": 11,
   "id": "31ac11ef",
   "metadata": {},
   "outputs": [
    {
     "name": "stderr",
     "output_type": "stream",
     "text": [
      "You are using the default legacy behaviour of the <class 'transformers.models.t5.tokenization_t5.T5Tokenizer'>. This is expected, and simply means that the `legacy` (previous) behavior will be used so nothing changes for you. If you want to use the new behaviour, set `legacy=False`. This should only be set if you understand what it means, and thoroughly read the reason why this was added as explained in https://github.com/huggingface/transformers/pull/24565\n"
     ]
    },
    {
     "name": "stdout",
     "output_type": "stream",
     "text": [
      "Loading model for topic: corporate_business from ../agents/specialized_agents/corporate_business-generator\n"
     ]
    },
    {
     "name": "stderr",
     "output_type": "stream",
     "text": [
      "/home/bigburrito/NLP/languageEnvironment/lib/python3.10/site-packages/torchvision/io/image.py:13: UserWarning: Failed to load image Python extension: '/home/bigburrito/NLP/languageEnvironment/lib/python3.10/site-packages/torchvision/image.so: undefined symbol: _ZN3c1017RegisterOperatorsD1Ev'If you don't plan on using image functionality from `torchvision.io`, you can ignore this warning. Otherwise, there might be something wrong with your environment. Did you have `libjpeg` or `libpng` installed before building `torchvision` from source?\n",
      "  warn(\n",
      "2025-10-18 18:35:00.558602: I tensorflow/core/platform/cpu_feature_guard.cc:210] This TensorFlow binary is optimized to use available CPU instructions in performance-critical operations.\n",
      "To enable the following instructions: AVX2 FMA, in other operations, rebuild TensorFlow with the appropriate compiler flags.\n"
     ]
    },
    {
     "name": "stdout",
     "output_type": "stream",
     "text": [
      "Using GPU\n"
     ]
    }
   ],
   "source": [
    "specialist = Specialist(topic)"
   ]
  },
  {
   "cell_type": "markdown",
   "id": "169c3895",
   "metadata": {},
   "source": [
    "As of now, past queries seem to confuse the model, the prompt structure must be adjusted"
   ]
  },
  {
   "cell_type": "code",
   "execution_count": 12,
   "id": "eb49f473",
   "metadata": {},
   "outputs": [],
   "source": [
    "answer, prompt = specialist.respond(query=query, news_summaries=news, past_queries=\"\")  #include SA once merged"
   ]
  },
  {
   "cell_type": "code",
   "execution_count": 13,
   "id": "8662d388",
   "metadata": {},
   "outputs": [
    {
     "data": {
      "text/plain": [
       "'On October 15, BofA Securities maintained its Buy rating and $270.00 price target on the stock.'"
      ]
     },
     "execution_count": 13,
     "metadata": {},
     "output_type": "execute_result"
    }
   ],
   "source": [
    "answer"
   ]
  },
  {
   "cell_type": "markdown",
   "id": "f5014665",
   "metadata": {},
   "source": [
    "### 5. Evalution Loop"
   ]
  },
  {
   "cell_type": "code",
   "execution_count": 14,
   "id": "0722784d",
   "metadata": {},
   "outputs": [],
   "source": [
    "# Include evaluation implementation"
   ]
  },
  {
   "cell_type": "code",
   "execution_count": 15,
   "id": "f87368fe",
   "metadata": {},
   "outputs": [],
   "source": [
    "feedback = \"\"\n",
    "# answer, prompt = specialist.respond(query=query, news_summaries=news, past_queries=stored_queries, feedback=feedback)"
   ]
  },
  {
   "cell_type": "markdown",
   "id": "8e592a1a",
   "metadata": {},
   "source": [
    "### 6. Storage"
   ]
  },
  {
   "cell_type": "markdown",
   "id": "ffca0b13",
   "metadata": {},
   "source": [
    "As of now, past queries are used in the prompt, but not stored as subfields of the current query, since this is redundant "
   ]
  },
  {
   "cell_type": "code",
   "execution_count": 16,
   "id": "8c58d3e9",
   "metadata": {},
   "outputs": [],
   "source": [
    "entry = {\n",
    "    \"question\": query,\n",
    "    \"articles\": news,\n",
    "    \"SA\": \"\",\n",
    "    \"feedback\": feedback,\n",
    "    \"answer\": answer\n",
    "}\n",
    "memory_agent.save_entry(entry, ticker)"
   ]
  },
  {
   "cell_type": "code",
   "execution_count": 18,
   "id": "5d3d6b38",
   "metadata": {},
   "outputs": [
    {
     "name": "stdout",
     "output_type": "stream",
     "text": [
      "You are a domain-specific assistant for corporate_business.\n",
      "\n",
      "Query: How are apple's stocks doing?\n",
      "\n",
      "News Summaries:\n",
      "Apple Inc. (NASDAQ:AAPL) is one of the AI Stocks Analysts Are Watching Closely. On October 15, BofA Securities maintained its Buy rating and $270.00 price target on the stock. The firm noted that iPhone shipping dates across Apple’s website and various carrier platforms over the past two weeks demonstrate stable delivery timeframes for iPhone 17 Pro […]\n",
      "Saudi Arabia has ploughed more than $1bn (£744m) into a technology firm developing virtual reality headsets, which has never turned a profit.\n",
      "Apple (AAPL) and Formula 1 announced a five-year partnership that will bring all F1 races exclusively to Apple TV in the United States beginning next year. “The partnership builds on Apple’s deepening relationship with Formula 1 following the global success of Apple Original Films’ adrenaline-fueled blockbuster F1 The Movie, the highest-grossing sports movie of all time. United by a commitment to innovation and fan experience, the partnership sets the stage for Formula 1’s continued growth in th\n",
      "\n",
      "Past Queries and Answers:\n",
      "\n",
      "\n",
      "Feedback: \n",
      "SA_label: \n",
      "\n",
      "Answer the query based on the above context.\n"
     ]
    }
   ],
   "source": [
    "print(prompt)"
   ]
  }
 ],
 "metadata": {
  "kernelspec": {
   "display_name": "languageEnvironment",
   "language": "python",
   "name": "python3"
  },
  "language_info": {
   "codemirror_mode": {
    "name": "ipython",
    "version": 3
   },
   "file_extension": ".py",
   "mimetype": "text/x-python",
   "name": "python",
   "nbconvert_exporter": "python",
   "pygments_lexer": "ipython3",
   "version": "3.10.12"
  }
 },
 "nbformat": 4,
 "nbformat_minor": 5
}
