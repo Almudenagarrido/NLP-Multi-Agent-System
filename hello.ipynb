{
 "cells": [
  {
   "cell_type": "code",
   "execution_count": 2,
   "id": "9d1ac357",
   "metadata": {},
   "outputs": [],
   "source": [
    "from transformers import pipeline"
   ]
  },
  {
   "cell_type": "code",
   "execution_count": 3,
   "id": "03f2b695",
   "metadata": {},
   "outputs": [
    {
     "name": "stderr",
     "output_type": "stream",
     "text": [
      "Device set to use cuda:0\n"
     ]
    }
   ],
   "source": [
    "classifier = pipeline(\"zero-shot-classification\", model=\"facebook/bart-large-mnli\")"
   ]
  },
  {
   "cell_type": "code",
   "execution_count": null,
   "id": "723c3de5",
   "metadata": {},
   "outputs": [
    {
     "name": "stdout",
     "output_type": "stream",
     "text": [
      "{'query': \"What's the Fed doing about inflation?\", 'top_label': 'finance', 'scores': {'finance': 0.900808572769165, 'politics': 0.049987439066171646, 'culture': 0.049204062670469284}}\n"
     ]
    }
   ],
   "source": [
    "labels = [\"finance\", \"politics\", \"culture\"]\n",
    "\n",
    "def classify_query(query):\n",
    "    result = classifier(query, candidate_labels=labels)\n",
    "    return {\n",
    "        \"query\": query,\n",
    "        \"top_label\": result[\"labels\"][0],\n",
    "        \"scores\": dict(zip(result[\"labels\"], result[\"scores\"]))\n",
    "    }\n",
    "\n",
    "# Example\n",
    "print(classify_query(\"What's the Fed doing about inflation?\"))"
   ]
  },
  {
   "cell_type": "code",
   "execution_count": null,
   "id": "824a2979",
   "metadata": {},
   "outputs": [],
   "source": [
    "import json\n",
    "import random\n",
    "import re\n",
    "\n",
    "# CONFIG\n",
    "INPUT_FILE = \"finance_news.json\"  # save your JSON above as this file\n",
    "OUTPUT_FILE = \"finance_pairs.jsonl\"\n",
    "NUM_PAIRS = 10  # generate one per article; adjust as needed\n",
    "\n",
    "# Very simple \"query synthesizer\" from titles\n",
    "def make_query_from_title(title: str):\n",
    "    title = title.strip()\n",
    "    title = re.sub(r\"[\\.\\!\\?]+$\", \"\", title)  # remove trailing punctuation\n",
    "    patterns = [\n",
    "        f\"What happened regarding {title.lower()}?\",\n",
    "        f\"Can you summarize: {title}?\",\n",
    "        f\"Explain the news about {title.lower()}\",\n",
    "        f\"Give me an update on {title.lower()}\",\n",
    "        f\"Details on {title.lower()}?\"\n",
    "    ]\n",
    "    return random.choice(patterns)\n",
    "\n",
    "def main():\n",
    "    with open(INPUT_FILE, \"r\", encoding=\"utf-8\") as f:\n",
    "        articles = json.load(f)\n",
    "\n",
    "    random.shuffle(articles)\n",
    "    out = []\n",
    "\n",
    "    for art in articles[:NUM_PAIRS]:\n",
    "        q = make_query_from_title(art[\"title\"])\n",
    "        pos = art[\"summary\"].strip()\n",
    "        out.append({\"query\": q, \"positive\": pos})\n",
    "\n",
    "    with open(OUTPUT_FILE, \"w\", encoding=\"utf-8\") as f:\n",
    "        for ex in out:\n",
    "            f.write(json.dumps(ex, ensure_ascii=False) + \"\\n\")\n",
    "\n",
    "    print(f\"Wrote {len(out)} pairs to {OUTPUT_FILE}\")\n",
    "\n",
    "if __name__ == \"__main__\":\n",
    "    main()\n"
   ]
  }
 ],
 "metadata": {
  "kernelspec": {
   "display_name": "languageEnvironment",
   "language": "python",
   "name": "python3"
  },
  "language_info": {
   "codemirror_mode": {
    "name": "ipython",
    "version": 3
   },
   "file_extension": ".py",
   "mimetype": "text/x-python",
   "name": "python",
   "nbconvert_exporter": "python",
   "pygments_lexer": "ipython3",
   "version": "3.10.12"
  }
 },
 "nbformat": 4,
 "nbformat_minor": 5
}
