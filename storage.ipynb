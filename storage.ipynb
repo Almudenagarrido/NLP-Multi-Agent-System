{
 "cells": [
  {
   "cell_type": "code",
   "execution_count": 17,
   "id": "4532006f",
   "metadata": {},
   "outputs": [],
   "source": [
    "import os\n",
    "import json\n",
    "from transformers import pipeline"
   ]
  },
  {
   "cell_type": "code",
   "execution_count": 2,
   "id": "bf22aea9",
   "metadata": {},
   "outputs": [],
   "source": [
    "def ask_llm(llm, prompt):\n",
    "    \"\"\"Ask a question to the local LLM.\"\"\"\n",
    "    output = llm(prompt, max_new_tokens=500, temperature=0.7, do_sample=True)\n",
    "    return output[0][\"generated_text\"].split(\"Assistant:\")[-1].strip()"
   ]
  },
  {
   "cell_type": "code",
   "execution_count": 15,
   "id": "c3eca5af",
   "metadata": {},
   "outputs": [],
   "source": [
    "def save_query(path, entry):\n",
    "    with open(path, \"r\", encoding=\"utf-8\") as f:\n",
    "        data = json.load(f)\n",
    "    data.append(entry)\n",
    "    with open(path, \"w\", encoding=\"utf-8\") as f:\n",
    "        json.dump(data, f, indent=4)"
   ]
  },
  {
   "cell_type": "code",
   "execution_count": 12,
   "id": "94f655d8",
   "metadata": {},
   "outputs": [],
   "source": [
    "def ask(model, question, context=\"\", save=False):\n",
    "    formatted_prompt = f\"User: {question}\\nAssistant:\"\n",
    "    if context:\n",
    "        formatted_promt = f\"Context:\\n{context}\\n\\n\" + formatted_prompt\n",
    "    answer = ask_llm(model, formatted_prompt)\n",
    "    if save:\n",
    "        path = \"queries_history/history.json\"\n",
    "        entry = {\n",
    "            \"question\": question,\n",
    "            \"context\": context,\n",
    "            \"answer\": answer\n",
    "        }\n",
    "        save_query(path, entry)\n",
    "    return answer"
   ]
  },
  {
   "cell_type": "code",
   "execution_count": 4,
   "id": "d3ed8926",
   "metadata": {},
   "outputs": [
    {
     "name": "stderr",
     "output_type": "stream",
     "text": [
      "Device set to use cuda:0\n"
     ]
    }
   ],
   "source": [
    "llm = pipeline(\n",
    "    \"text-generation\",\n",
    "    model=\"TinyLlama/TinyLlama-1.1B-Chat-v1.0\",\n",
    "    device_map=\"auto\"  # GPU if available, CPU otherwise\n",
    ")"
   ]
  },
  {
   "cell_type": "code",
   "execution_count": 19,
   "id": "8dffbb2e",
   "metadata": {},
   "outputs": [
    {
     "data": {
      "text/plain": [
       "'When you feel overwhelmed, it can be helpful to take a step back and reassess what you’re doing. Sometimes, it’s better to take a break and approach the task differently. Remember to'"
      ]
     },
     "execution_count": 19,
     "metadata": {},
     "output_type": "execute_result"
    }
   ],
   "source": [
    "ask(llm, \"How are you doing?\", save=True)"
   ]
  }
 ],
 "metadata": {
  "kernelspec": {
   "display_name": "languageEnvironment",
   "language": "python",
   "name": "python3"
  },
  "language_info": {
   "codemirror_mode": {
    "name": "ipython",
    "version": 3
   },
   "file_extension": ".py",
   "mimetype": "text/x-python",
   "name": "python",
   "nbconvert_exporter": "python",
   "pygments_lexer": "ipython3",
   "version": "3.10.12"
  }
 },
 "nbformat": 4,
 "nbformat_minor": 5
}
